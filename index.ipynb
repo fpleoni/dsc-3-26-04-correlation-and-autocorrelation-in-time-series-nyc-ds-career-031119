{
 "cells": [
  {
   "cell_type": "markdown",
   "metadata": {},
   "source": [
    "# Correlation and Autocorrelation in Time Series"
   ]
  },
  {
   "cell_type": "markdown",
   "metadata": {},
   "source": [
    "## Introduction\n",
    "\n",
    "In this lecture, we'll look at correlation,  autocorrelation and partial autocorrelation in time series. "
   ]
  },
  {
   "cell_type": "markdown",
   "metadata": {},
   "source": [
    "## Objectives\n",
    "\n",
    "You will be able to:\n",
    "- Understand correlation in Time Series\n",
    "- Plot and discuss the autocorrelation function (ACF) for a time-series \n",
    "- Plot and discuss the partial autocorrelation function (PACF) for a time-series \n",
    "- Interpret ACF and PACF and Identify use cases both functions"
   ]
  },
  {
   "cell_type": "markdown",
   "metadata": {},
   "source": [
    "## Correlated Time Series"
   ]
  },
  {
   "cell_type": "markdown",
   "metadata": {},
   "source": [
    "As you've seen before, correlation is a statistical technique that shows whether and how strongly pairs of variables are related to each other. For correlated variables, you've seen that the Pearson correlation coefficient can be used to summarize the correlation between the variables.\n",
    "\n",
    "Knowing this, it's no surprise that time series can be correlated as well. To introduce the concept of correlated time series, we use a data set also used in this [blog post](https://www.datacamp.com/community/tutorials/time-series-analysis-tutorial) on www.datacamp.com. The data set contains Google Trends data of three keywords: Diet, Gym and Finance. Let's visualize this time series data."
   ]
  },
  {
   "cell_type": "code",
   "execution_count": 1,
   "metadata": {},
   "outputs": [],
   "source": [
    "import numpy as np\n",
    "import pandas as pd\n",
    "import matplotlib.pyplot as plt\n",
    "%matplotlib inline"
   ]
  },
  {
   "cell_type": "code",
   "execution_count": 2,
   "metadata": {},
   "outputs": [
    {
     "data": {
      "text/html": [
       "<div>\n",
       "<style scoped>\n",
       "    .dataframe tbody tr th:only-of-type {\n",
       "        vertical-align: middle;\n",
       "    }\n",
       "\n",
       "    .dataframe tbody tr th {\n",
       "        vertical-align: top;\n",
       "    }\n",
       "\n",
       "    .dataframe thead th {\n",
       "        text-align: right;\n",
       "    }\n",
       "</style>\n",
       "<table border=\"1\" class=\"dataframe\">\n",
       "  <thead>\n",
       "    <tr style=\"text-align: right;\">\n",
       "      <th></th>\n",
       "      <th>Month</th>\n",
       "      <th>diet: (Worldwide)</th>\n",
       "      <th>gym: (Worldwide)</th>\n",
       "      <th>finance: (Worldwide)</th>\n",
       "    </tr>\n",
       "  </thead>\n",
       "  <tbody>\n",
       "    <tr>\n",
       "      <th>0</th>\n",
       "      <td>2004-01</td>\n",
       "      <td>100</td>\n",
       "      <td>31</td>\n",
       "      <td>47</td>\n",
       "    </tr>\n",
       "    <tr>\n",
       "      <th>1</th>\n",
       "      <td>2004-02</td>\n",
       "      <td>77</td>\n",
       "      <td>27</td>\n",
       "      <td>49</td>\n",
       "    </tr>\n",
       "    <tr>\n",
       "      <th>2</th>\n",
       "      <td>2004-03</td>\n",
       "      <td>75</td>\n",
       "      <td>25</td>\n",
       "      <td>47</td>\n",
       "    </tr>\n",
       "    <tr>\n",
       "      <th>3</th>\n",
       "      <td>2004-04</td>\n",
       "      <td>73</td>\n",
       "      <td>24</td>\n",
       "      <td>47</td>\n",
       "    </tr>\n",
       "    <tr>\n",
       "      <th>4</th>\n",
       "      <td>2004-05</td>\n",
       "      <td>75</td>\n",
       "      <td>23</td>\n",
       "      <td>44</td>\n",
       "    </tr>\n",
       "  </tbody>\n",
       "</table>\n",
       "</div>"
      ],
      "text/plain": [
       "     Month  diet: (Worldwide)  gym: (Worldwide)  finance: (Worldwide)\n",
       "0  2004-01                100                31                    47\n",
       "1  2004-02                 77                27                    49\n",
       "2  2004-03                 75                25                    47\n",
       "3  2004-04                 73                24                    47\n",
       "4  2004-05                 75                23                    44"
      ]
     },
     "execution_count": 2,
     "metadata": {},
     "output_type": "execute_result"
    }
   ],
   "source": [
    "gtrends  =  pd.read_csv('google_trends.csv', skiprows=1)\n",
    "gtrends.head()"
   ]
  },
  {
   "cell_type": "code",
   "execution_count": 3,
   "metadata": {},
   "outputs": [],
   "source": [
    "gtrends.columns = ['Month', 'Diet', 'Gym', 'Finance']\n",
    "gtrends.Month = pd.to_datetime(gtrends.Month)\n",
    "gtrends.set_index('Month', inplace=True)"
   ]
  },
  {
   "cell_type": "code",
   "execution_count": 4,
   "metadata": {},
   "outputs": [
    {
     "data": {
      "image/png": "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